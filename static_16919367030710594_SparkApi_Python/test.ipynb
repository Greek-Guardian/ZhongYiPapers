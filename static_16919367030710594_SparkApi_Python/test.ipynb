{
 "cells": [
  {
   "cell_type": "code",
   "execution_count": 1,
   "metadata": {},
   "outputs": [],
   "source": [
    "import json\n",
    "def save_to(entry, filename = r'/Users/lzd/Desktop/workspace/ZhongYiPapers/papers_lzd.json'):\n",
    "    try:\n",
    "        # utf-8将一个汉字编码为3个字节,gbk将一个汉字编码为2个字节,\n",
    "        with open(filename, 'w',encoding='utf-8') as new_f:  # 重新写入\n",
    "            json.dump(entry, new_f,ensure_ascii=False,indent=4) # 最后一个参数会保证dump之后的结果所有的字符都能被ascii表示\n",
    "    except json.decoder.JSONDecodeError:\n",
    "        print('Make sure the json file is in valid format,[{},{}...]')\n",
    "\n",
    "def open_json(filename = r'/Users/lzd/Desktop/workspace/ZhongYiPapers/papers_lzd.json'):\n",
    "    with open(filename, 'r',encoding='utf-8') as f:\n",
    "        existing_data = json.load(f)\n",
    "        return existing_data"
   ]
  },
  {
   "cell_type": "code",
   "execution_count": 4,
   "metadata": {},
   "outputs": [],
   "source": [
    "import SparkApi\n",
    "#以下密钥信息从控制台获取\n",
    "appid = \"86ad1519\"     #填写控制台中获取的 APPID 信息\n",
    "api_secret = \"YzA2ZjkzMDk5Y2JjNDczMjk1NTFlNWY4\"   #填写控制台中获取的 APISecret 信息\n",
    "api_key =\"80e0c599a96c92e846ebde7ea93cd346\"    #填写控制台中获取的 APIKey 信息\n",
    "\n",
    "#用于配置大模型版本，默认“general/generalv2”\n",
    "domain = \"generalv3\"\n",
    "#云端环境的服务地址\n",
    "Spark_url = \"ws://spark-api.xf-yun.com/v3.1/chat\"\n",
    "\n",
    "text =[]\n",
    "\n",
    "# length = 0\n",
    "\n",
    "def getText(role,content):\n",
    "    jsoncon = {}\n",
    "    jsoncon[\"role\"] = role\n",
    "    jsoncon[\"content\"] = content\n",
    "    text.append(jsoncon)\n",
    "    return text\n",
    "\n",
    "def getlength(text):\n",
    "    length = 0\n",
    "    for content in text:\n",
    "        temp = content[\"content\"]\n",
    "        leng = len(temp)\n",
    "        length += leng\n",
    "    return length\n",
    "\n",
    "def checklen(text):\n",
    "    while (getlength(text) > 8000):\n",
    "        del text[0]\n",
    "    return text"
   ]
  },
  {
   "cell_type": "code",
   "execution_count": 7,
   "metadata": {},
   "outputs": [
    {
     "name": "stdout",
     "output_type": "stream",
     "text": [
      "判断这篇论文属于西医还是中医：标题：心理综合护理干预对类风湿关节炎患者焦虑及抑郁情绪影响系统综述；关键词：心理综合护理干预　　类风湿关节炎　　焦虑　　抑郁；摘要：目的运用系统综述的方法心理综合护理干预对类风湿关节炎患者焦虑及抑郁情绪影响进行评估。方法通过对中国知网、生物医学数据库、万方、维普、PubMed等数据库数据库进行相关文献进行检索,筛选出干预组采用常规护理加心理护理,对照组采用常规护理,结局指标采用焦虑自评量表或抑郁自评量表。采用Cochrane协作网系统评价的方法对文献进行资料提取,并对文献进行方法学质量评估。对所纳入的数据使用RevMan5.3.0软件对数据进行分析。结果筛选出符合纳入标准文献12篇,干预组较之于对照组,患者焦虑自评量表或抑郁自评量表得分明显降低。结论对类风湿性关节炎患者进行心理护理干预可以有效改善患者的焦虑与抑郁状况。\n",
      "这篇论文 \n",
      "<class 'list'>\n",
      "[{'role': 'user', 'content': '请你判断这篇论文属于西医还是中医，回答“西医”或“中医”：标题：心理综合护理干预对类风湿关节炎患者焦虑及抑郁情绪影响系统综述；关键词：心理综合护理干预\\u3000\\u3000类风湿关节炎\\u3000\\u3000焦虑\\u3000\\u3000抑郁；摘要：目的运用系统综述的方法心理综合护理干预对类风湿关节炎患者焦虑及抑郁情绪影响进行评估。方法通过对中国知网、生物医学数据库、万方、维普、PubMed等数据库数据库进行相关文献进行检索,筛选出干预组采用常规护理加心理护理,对照组采用常规护理,结局指标采用焦虑自评量表或抑郁自评量表。采用Cochrane协作网系统评价的方法对文献进行资料提取,并对文献进行方法学质量评估。对所纳入的数据使用RevMan5.3.0软件对数据进行分析。结果筛选出符合纳入标准文献12篇,干预组较之于对照组,患者焦虑自评量表或抑郁自评量表得分明显降低。结论对类风湿性关节炎患者进行心理护理干预可以有效改善患者的焦虑与抑郁状况。'}, {'role': 'assistant', 'content': '这篇论文'}, {'role': 'user', 'content': '判断这篇论文属于西医还是中医：标题：心理综合护理干预对类风湿关节炎患者焦虑及抑郁情绪影响系统综述；关键词：心理综合护理干预\\u3000\\u3000类风湿关节炎\\u3000\\u3000焦虑\\u3000\\u3000抑郁；摘要：目的运用系统综述的方法心理综合护理干预对类风湿关节炎患者焦虑及抑郁情绪影响进行评估。方法通过对中国知网、生物医学数据库、万方、维普、PubMed等数据库数据库进行相关文献进行检索,筛选出干预组采用常规护理加心理护理,对照组采用常规护理,结局指标采用焦虑自评量表或抑郁自评量表。采用Cochrane协作网系统评价的方法对文献进行资料提取,并对文献进行方法学质量评估。对所纳入的数据使用RevMan5.3.0软件对数据进行分析。结果筛选出符合纳入标准文献12篇,干预组较之于对照组,患者焦虑自评量表或抑郁自评量表得分明显降低。结论对类风湿性关节炎患者进行心理护理干预可以有效改善患者的焦虑与抑郁状况。'}, {'role': 'assistant', 'content': '这篇论文'}, {'role': 'user', 'content': '判断这篇论文属于西医还是中医：标题：心理综合护理干预对类风湿关节炎患者焦虑及抑郁情绪影响系统综述；关键词：心理综合护理干预\\u3000\\u3000类风湿关节炎\\u3000\\u3000焦虑\\u3000\\u3000抑郁；摘要：目的运用系统综述的方法心理综合护理干预对类风湿关节炎患者焦虑及抑郁情绪影响进行评估。方法通过对中国知网、生物医学数据库、万方、维普、PubMed等数据库数据库进行相关文献进行检索,筛选出干预组采用常规护理加心理护理,对照组采用常规护理,结局指标采用焦虑自评量表或抑郁自评量表。采用Cochrane协作网系统评价的方法对文献进行资料提取,并对文献进行方法学质量评估。对所纳入的数据使用RevMan5.3.0软件对数据进行分析。结果筛选出符合纳入标准文献12篇,干预组较之于对照组,患者焦虑自评量表或抑郁自评量表得分明显降低。结论对类风湿性关节炎患者进行心理护理干预可以有效改善患者的焦虑与抑郁状况。'}, {'role': 'assistant', 'content': '这篇论文'}]\n",
      "这篇论文"
     ]
    }
   ],
   "source": [
    "def query(Input):\n",
    "    text.clear\n",
    "    question = checklen(getText(\"user\",Input))\n",
    "    SparkApi.answer =\"\"\n",
    "    SparkApi.main(appid,api_key,api_secret,Spark_url,domain,question)\n",
    "    return getText(\"assistant\",SparkApi.answer)\n",
    "\n",
    "def jsonToText(myjson):\n",
    "    text = \"判断这篇论文属于西医还是中医：标题：\"\n",
    "    text += myjson[\"title\"] + \"；关键词：\"\n",
    "    text += myjson[\"keywords\"] + \"；摘要：\"\n",
    "    text += myjson[\"abstract\"]\n",
    "    return text\n",
    "\n",
    "myjson = open_json()\n",
    "input = jsonToText(myjson[0])\n",
    "print(input)\n",
    "output = query(input)\n",
    "# print(type(output))\n",
    "# print(output)\n",
    "print(output[-1][\"content\"],end =\"\")\n"
   ]
  },
  {
   "cell_type": "markdown",
   "metadata": {},
   "source": []
  }
 ],
 "metadata": {
  "kernelspec": {
   "display_name": "Python 3",
   "language": "python",
   "name": "python3"
  },
  "language_info": {
   "codemirror_mode": {
    "name": "ipython",
    "version": 3
   },
   "file_extension": ".py",
   "mimetype": "text/x-python",
   "name": "python",
   "nbconvert_exporter": "python",
   "pygments_lexer": "ipython3",
   "version": "3.8.2"
  }
 },
 "nbformat": 4,
 "nbformat_minor": 2
}
