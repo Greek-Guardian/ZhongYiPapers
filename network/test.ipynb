{
 "cells": [
  {
   "cell_type": "code",
   "execution_count": 1,
   "metadata": {},
   "outputs": [],
   "source": [
    "from networkx.readwrite import json_graph\n",
    "import pickle, json\n",
    "import networkx as nx\n",
    "from tqdm import tqdm"
   ]
  },
  {
   "cell_type": "code",
   "execution_count": 2,
   "metadata": {},
   "outputs": [],
   "source": [
    "'''保存graph和各种list'''\n",
    "save_path = r\"D:\\vscode_workspace\\ZhongYiPapers\\network\\data\"\n",
    "\n",
    "# 保存图\n",
    "with open(save_path + r'\\G.pkl', 'rb') as f:\n",
    "    G = pickle.load(f)\n",
    "with open(save_path + r'\\graphs_per_year.pkl', 'rb') as f:\n",
    "    graphs_per_year = pickle.load(f)\n",
    "\n",
    "with open(save_path + r'\\name_list.pkl', 'rb') as f:\n",
    "    name_list = pickle.load(f)\n",
    "with open(save_path + r'\\name_dict_list.pkl', 'rb') as f:\n",
    "    name_dict_list = pickle.load(f)\n",
    "with open(save_path + r'\\name_dict_id_list.pkl', 'rb') as f:\n",
    "    name_dict_id_list = pickle.load(f)\n",
    "with open(save_path + r'\\affiliation_set.pkl', 'rb') as f:\n",
    "    affiliation_set = pickle.load(f)\n",
    "with open(save_path + r'\\uid_nameId_list.pkl', 'rb') as f:\n",
    "    uid_nameId_list = pickle.load(f)\n",
    "with open(save_path + r'\\affiliation_dict.pkl', 'rb') as f:\n",
    "    affiliation_dict = pickle.load(f)\n",
    "with open(save_path + r'\\affiliation_list.pkl', 'rb') as f:\n",
    "    affiliation_list = pickle.load(f)\n",
    "with open(save_path + r'\\affiliation_id_list.pkl', 'rb') as f:\n",
    "    affiliation_id_list = pickle.load(f)\n",
    "\n",
    "'''读取MetaData'''\n",
    "MetaData_path = r\"D:\\vscode_workspace\\database\\MetaData.json\"\n",
    "with open(MetaData_path, 'r', encoding='utf-8') as f:\n",
    "    MetaData = json.load(f)"
   ]
  },
  {
   "cell_type": "code",
   "execution_count": 3,
   "metadata": {},
   "outputs": [],
   "source": [
    "# G['affiliation']['北京大学']"
   ]
  },
  {
   "cell_type": "code",
   "execution_count": 12,
   "metadata": {},
   "outputs": [],
   "source": [
    "class Addable_Graph(nx.Graph):\n",
    "    def __add__(self, other):\n",
    "        # Implement the addition logic here\n",
    "        res = self.copy()\n",
    "        for node in other.nodes:\n",
    "            if node not in res.nodes:\n",
    "                res.add_node(node)\n",
    "            else:\n",
    "                # res.nodes[node]['affiliation_list'] = name_dict_list[index]\n",
    "                res.nodes[node]['paper_num'] += other.nodes[node]['paper_num']\n",
    "                res.nodes[node]['citation'] += other.nodes[node]['citation']\n",
    "                res.nodes[node]['years'].update(res.nodes[node]['years'])\n",
    "        for edge in other.edges:\n",
    "            if edge not in res.edges:\n",
    "                res.add_edge(edge[0], edge[1], papers=other.edges[edge]['papers'], paper_num_weight=other.edges[edge]['paper_num_weight'], citation_weight=other.edges[edge]['citation_weight'])\n",
    "            else:\n",
    "                res[edge[0]][edge[1]]['papers'].update(other[edge[0]][edge[1]]['papers'])\n",
    "                res[edge[0]][edge[1]]['paper_num_weight'] += other[edge[0]][edge[1]]['paper_num_weight']\n",
    "                res[edge[0]][edge[1]]['citation_weight'] += other[edge[0]][edge[1]]['citation_weight']\n",
    "        return res\n",
    "\n",
    "    def __iadd__(self, other):\n",
    "        # Implement the addition logic here\n",
    "        for node in other.nodes:\n",
    "            if node not in self.nodes:\n",
    "                self.add_node(node)\n",
    "            else:\n",
    "                # res.nodes[node]['affiliation_list'] = name_dict_list[index]\n",
    "                self.nodes[node]['paper_num'] += other.nodes[node]['paper_num']\n",
    "                self.nodes[node]['citation'] += other.nodes[node]['citation']\n",
    "                self.nodes[node]['years'].update(self.nodes[node]['years'])\n",
    "        for edge in other.edges:\n",
    "            if edge not in self.edges:\n",
    "                self.add_edge(edge[0], edge[1], papers=other.edges[edge]['papers'], paper_num_weight=other.edges[edge]['paper_num_weight'], citation_weight=other.edges[edge]['citation_weight'])\n",
    "            else:\n",
    "                self[edge[0]][edge[1]]['papers'].update(other[edge[0]][edge[1]]['papers'])\n",
    "                self[edge[0]][edge[1]]['paper_num_weight'] += other[edge[0]][edge[1]]['paper_num_weight']\n",
    "                self[edge[0]][edge[1]]['citation_weight'] += other[edge[0]][edge[1]]['citation_weight']\n",
    "        return self\n",
    "\n",
    "class Sum_Graph(Addable_Graph):\n",
    "    def __init__(self, G=None, graphs_per_year=None):\n",
    "        if graphs_per_year and G:\n",
    "            super().__init__(G)\n",
    "            self.graphs_per_year = [Addable_Graph(graph) for graph in graphs_per_year]\n",
    "            self.y0 = 1980\n",
    "        else:\n",
    "            pass\n",
    "\n",
    "    def year(self, year0, year1=None):\n",
    "        '''单个年份返回的是引用，多个年份返回的是新建的图'''\n",
    "        res = self.graphs_per_year[year0-self.y0]\n",
    "        if year1 and year1 > year0:\n",
    "            res = res.copy()\n",
    "            for year in range(year0+1, year1+1):\n",
    "                res += self.graphs_per_year[year-self.y0]\n",
    "            return res\n",
    "        return res\n",
    "\n",
    "    def affiliation(self, affiliation):\n",
    "        return self.subgraph(affiliation_id_list[affiliation_dict[affiliation]])"
   ]
  },
  {
   "cell_type": "code",
   "execution_count": 13,
   "metadata": {},
   "outputs": [],
   "source": [
    "graph_G = Sum_Graph(G, graphs_per_year)"
   ]
  },
  {
   "cell_type": "code",
   "execution_count": 14,
   "metadata": {},
   "outputs": [
    {
     "data": {
      "text/plain": [
       "({'papers': {'015ae6a5cc767b28e087343dc6ea26968f54635c895937731e263ed8cf9d67cf': {'year': 2001,\n",
       "    'citation': 13,\n",
       "    'name_id_list': [8976, 8977, 8978, 8979],\n",
       "    'name_id_len': 4}},\n",
       "  'paper_num_weight': 1,\n",
       "  'citation_weight': 13},\n",
       " {'papers': {'015ae6a5cc767b28e087343dc6ea26968f54635c895937731e263ed8cf9d67cf': {'year': 2001,\n",
       "    'citation': 13,\n",
       "    'name_id_list': [8976, 8977, 8978, 8979],\n",
       "    'name_id_len': 4}},\n",
       "  'paper_num_weight': 1,\n",
       "  'citation_weight': 13})"
      ]
     },
     "execution_count": 14,
     "metadata": {},
     "output_type": "execute_result"
    }
   ],
   "source": [
    "graph_G.year(2001,2002)[8976][8977], graph_G[8976][8977]"
   ]
  },
  {
   "cell_type": "code",
   "execution_count": 23,
   "metadata": {},
   "outputs": [
    {
     "name": "stdout",
     "output_type": "stream",
     "text": [
      "(95744, 95739) {'papers': {'22dc57dd01c862063b314f8ee04e50b5d5d483ceeccd26a11add682343191199': {'year': 2014, 'citation': 10, 'name_id_list': [95739, 79896, 95740, 95741, 95742, 95743, 38224, 22299, 95744], 'name_id_len': 9}}, 'paper_num_weight': 1, 'citation_weight': 10}\n",
      "{'title': '中医辨证治疗慢性前列腺炎的疗效评价研究', 'authors': ['高国庆1', '宋竖旗2', '卢建新2', '孙自学3', '高文喜4', '顾晓箭5', '贺菊乔6', '李海松7', '张亚强1'], 'year': 2014, 'province': ['江苏', '河南', '湖北', '湖南', '四川', '北京'], 'affiliations': ['北京大学', '中国中医科学院广安门医院', '河南省中医院', '湖北省中医院', '江苏省中医院', '湖南中医药大学第一附属医院', '北京中医药大学东直门医院'], 'journal': '中国中医基础医学杂志', 'keywords': ['中医药', '辨证论治', '慢性前列腺炎', '疗效评价'], 'source': '北京大学；中国中医科学院广安门医院；河南省中医院；湖北省中医院；江苏省中医院；湖南中医药大学第一附属医院；北京中医药大学东直门医院  2014  第20卷  第10期  1394-1396，1401    ', 'abstract': '目的:客观评价中医辨证论治慢性前列腺炎(Chronic Prostatitis,CP)的临床疗效。方法:多中心、大样本、分层区组随机、西药对照临床研究设计,216例CP患者按1∶1比例随机分为治疗组(中医辨证组)和对照组(西医治疗组)各108例,疗程为4周,第6周随访。以美国国立卫生院前列腺炎症状评分(NIH-CPSI)、中医证候评分作为主要疗效评价指标。结果:1治疗4周后,治疗组和对照组NIH-CPSI评分分别为(12.2±6.04和15.1±7.57),治疗组低于对照组,2组比较差异有统计学意义(P<0.05);2治疗4周后治疗组和对照组中医证候评分分别为(10.9±8.58和14.45±10.45),治疗组低于对照组(P<0.05),治疗组降幅大于对照组(P<0.05);3治疗组总有效率85.9%,对照组77.0%,总有效率治疗组优于对照组(P0.05)。结论:中医辨证治疗CP有较好疗效。', 'link': 'http://fx.sjtulib.superlib.net/detail_38502727e7500f268595c8ad150b5bdda5337f6292b531b01921b0a3ea255101fc1cf1fbb4666ae67dbf2a574aa69cdbd72c468434c739b76df58b01cb117330a0ec7f3bd9947c80252de347fba82ff2', 'citation': 10, 'ISSN': '1006-3250', 'tags': ['with nums', 'fby'], 'uid': '22dc57dd01c862063b314f8ee04e50b5d5d483ceeccd26a11add682343191199'}\n",
      "(366489, 366490) {'papers': {'5c44f5e50bda9385d39f275ee589186650d455503ed4e74ff3054a5c1aebd89e': {'year': 2020, 'citation': 20, 'name_id_list': [366489, 136462, 366490], 'name_id_len': 3}}, 'paper_num_weight': 1, 'citation_weight': 20}\n",
      "{'title': '新型冠状病毒肺炎中医病理研究', 'authors': ['张云飞1', '赵鹏飞2', '沈体雁1'], 'year': 2020, 'province': ['北京'], 'affiliations': ['北京大学', '北京中医药大学'], 'journal': '中医学报', 'keywords': ['新型冠状病毒肺炎', '“肺疫”', '肺失宣降', '三因制宜', '新型冠状病毒'], 'source': '北京大学；北京中医药大学  2020  第35卷  第4期  694-698    ', 'abstract': '鉴于新型冠状病毒肺炎\"病位在肺,属于疫病\",其中医名可为\"肺疫\"。新冠肺疫的病因,外因之主因是感染病毒(异气),内因是患者身体系统,同时合并兼夹感受\"六淫\"邪气(常气)。只有疫毒本身是普遍的,寒暑燥湿风火不具有普遍性,是因时、因地、因人而变的。常见病机是邪毒犯肺,挟热下利,肺失宣降,水停生湿。总体治则是扶正祛邪、平衡阴阳、标本兼治、三因制宜。此外,本文还提出病毒有无寒热属性的问题,供医学界共同探讨。', 'link': 'http://fx.sjtulib.superlib.net/detail_38502727e7500f26eed4e86ae44623368f5a50a7729e27bd1921b0a3ea255101fc1cf1fbb4666ae696c86b0bee5596ce5cb8e0863f1cd48d8d332a6837765c2de881dee34e68c83f08c55aef62e1f747', 'citation': 20, 'ISSN': '1674-8999', 'tags': ['with nums', 'fby'], 'uid': '5c44f5e50bda9385d39f275ee589186650d455503ed4e74ff3054a5c1aebd89e'}\n",
      "(129389, 129391) {'papers': {'9fe82a59fd1823734d792f417a250a82eecd4cd56baa48023c6ce77b3c2eb181': {'year': 2020, 'citation': 12, 'name_id_list': [129383, 129384, 129385, 63272, 129386, 129387, 79023, 3442, 44658, 44659, 610, 32408, 129388, 129389, 6367, 129390, 129391, 125124, 129392, 129393, 20592, 44661, 6712, 20591, 129394, 11989, 44662, 129395, 129396, 129397], 'name_id_len': 30}, 'f7ab1f8656a380366ed7bb153152d31087ea92713f0fafa56ded0d2e2d9f919b': {'year': 2020, 'citation': 12, 'name_id_list': [129383, 129384, 129385, 63272, 129386, 129387, 79023, 3442, 44658, 44659, 610, 32408, 129388, 129389, 6367, 129390, 129391, 125124, 129392, 129393, 20592, 44661, 6712, 20591, 129394, 11989, 44662, 129395, 129396, 129397], 'name_id_len': 30}}, 'paper_num_weight': 2, 'citation_weight': 24}\n",
      "{'title': '循证中医药研究：北京宣言', 'authors': ['张俊华1,2', '李幼平2,3', '张伯礼1,2', '陈可冀4', '王琦1', '李振吉5', '孙塑伦6', '田金洲6', '孙鑫3', '姚晨7', '谢雁鸣8', '胡镜清9', '田金徽10', '詹思延11', '刘建平12', '吴晶13', '孙凤11', '杜亮2,3', '喻佳洁2,3', '张永刚2,3', '张磊14', '高蕊4', '王保和15', '唐健元16', '朱明军17', '毛静远18', '黄宇虹15', '郑文科1,2', '杨丰文1,2', '庞博1,2'], 'affiliations': ['天津中医药大学循证医学中心', '中国临床试验核心指标集研究中心', '四川大学华西医院中国循证医学中心', '中国中医科学院西苑医院', '世界中医药学会联合会', '北京中医药大学东直门医院', '北京大学第一医院', '中国中医科学院中医临床基础医学研究所', '中国中医科学院中医基础理论研究所', '兰州大学', '北京大学', '北京中医药大学', '天津大学', '上海中医药大学', '天津中医药大学第二附属医院', '成都中医药大学附属医院', '河南中医学院第一附属医院', '天津中医药大学第一附属医院'], 'journal': '中国循证医学杂志', 'keywords': ['中医药干预'], 'source': '天津中医药大学循证医学中心；中国临床试验核心指标集研究中心；四川大学华西医院中国循证医学中心；中国中医科学院西苑医院；世界中医药学会联合会；北京中医药大学东直门医院；北京大学第一医院；中国中医科学院中医临床基础医学研究所；中国中医科学院中医基础理论研究所；兰州大学；北京大学；北京中医药大学；天津大学；上海中医药大学；天津中医药大学第二附属医院；成都中医药大学附属医院；河南中医学院第一附属医院；天津中医药大学第一附属医院\\xa0\\xa02020\\xa0\\xa0第20卷\\xa0\\xa0第8期\\xa0\\xa0869-870', 'abstract': '用科学研究数据和高质量临床研究证据明确中医药的优势和价值,是中医药传承创新发展的迫切需求,也是中药产业健康发展的必要条件。中医药事业越是发展,生产高质量有效性和安全性证据就越来越重要。循证医学与中医药学在实践中从碰撞走向融合,中医药循证评价研究快速发展,对', 'link': 'http://fx.sjtulib.superlib.net/detail_38502727e7500f26b660ad2fea247e174b9c2d072ce8d3de1921b0a3ea255101fc1cf1fbb4666ae6398727a741c21b48e1fa7c6cbaad6fcbbe58bd962dffbe18d32d701283de097e91b7b236802d280b', 'citation': 12, 'ISSN': '1672-2531', 'year': 2020, 'province': ['河南', '四川', '甘肃', '北京', '天津', '上海'], 'tags': ['with nums', 'lzd'], 'uid': '9fe82a59fd1823734d792f417a250a82eecd4cd56baa48023c6ce77b3c2eb181'}\n"
     ]
    }
   ],
   "source": [
    "for edge in graph_G.affiliation('北京大学').edges:\n",
    "    print(edge, graph_G.edges[edge])\n",
    "    print(MetaData[1][graph_G.edges[edge]['papers'].keys().__iter__().__next__()])"
   ]
  }
 ],
 "metadata": {
  "kernelspec": {
   "display_name": "Python 3",
   "language": "python",
   "name": "python3"
  },
  "language_info": {
   "codemirror_mode": {
    "name": "ipython",
    "version": 3
   },
   "file_extension": ".py",
   "mimetype": "text/x-python",
   "name": "python",
   "nbconvert_exporter": "python",
   "pygments_lexer": "ipython3",
   "version": "3.11.1"
  }
 },
 "nbformat": 4,
 "nbformat_minor": 2
}
