{
 "cells": [
  {
   "cell_type": "code",
   "execution_count": 1,
   "metadata": {},
   "outputs": [],
   "source": [
    "from selenium.webdriver.common.by import By\n",
    "import random\n",
    "from bs4 import BeautifulSoup\n",
    "from selenium.webdriver.common.action_chains import ActionChains\n",
    "from PIL import Image, ImageDraw, ImageFont\n",
    "import torchvision.transforms as standard_transforms\n",
    "import torch\n",
    "\n",
    "def append_hanzi(raw_img, character):\n",
    "    '''选取五个汉字中的一个，将其放在图片右侧'''\n",
    "    out_img = Image.new('L', (360, 160), (0))\n",
    "    draw = ImageDraw.Draw(out_img)\n",
    "    draw.text((320, 0), character, fill=(255), font=ImageFont.truetype(r\"D:\\vscode_workspace\\Python\\ZhongYi\\chaoxin\\ttc\\msyh.ttc\", 28, encoding=\"unic\"))\n",
    "    draw.text((320, 40), character, fill=(255), font=ImageFont.truetype(r\"D:\\vscode_workspace\\Python\\ZhongYi\\chaoxin\\ttc\\STXINGKA.TTF\", 40, encoding=\"unic\"))\n",
    "    draw.text((320, 80), character, fill=(255), font=ImageFont.truetype(r\"D:\\vscode_workspace\\Python\\ZhongYi\\chaoxin\\ttc\\STZHONGS.TTF\", 30, encoding=\"unic\"))\n",
    "    draw.text((320, 120), character, fill=(255), font=ImageFont.truetype(r\"D:\\vscode_workspace\\Python\\ZhongYi\\chaoxin\\ttc\\SIMLI.TTF\", 30, encoding=\"unic\"))\n",
    "    out_img.paste(raw_img, (0, 0), mask=raw_img)\n",
    "    return out_img\n",
    "\n",
    "def preprocess(image, character):\n",
    "    # 灰度化\n",
    "    image = image.convert('L')\n",
    "    # 向图片右侧增扩汉字图像\n",
    "    image = append_hanzi(image, character)\n",
    "    # 暂存图像\n",
    "    image.save(r\"D:\\vscode_workspace\\Python\\ZhongYi\\chaoxin\\junk\\preprocessed.jpg\")\n",
    "    return image\n",
    "\n",
    "def get_pos(model, character, img_path):\n",
    "    # PIL Image 转 Tensor\n",
    "    transform = standard_transforms.ToTensor()\n",
    "    # 将图片转化为 tensor\n",
    "    image = Image.open(img_path)\n",
    "    # 图片预处理\n",
    "    image = preprocess(image, character)\n",
    "    image_tensor = transform(image)\n",
    "    image_tensor = torch.unsqueeze(image_tensor, 0)\n",
    "    pos = model(image_tensor.to('cuda')).cpu()\n",
    "    if pos[0][0]<0:\n",
    "        pos[0][0] = 0\n",
    "    if pos[0][0]>=360:\n",
    "        pos[0][0] = 359\n",
    "    if pos[0][1]<0:\n",
    "        pos[0][2] = 0\n",
    "    if pos[0][1]>=160:\n",
    "        pos[0][1] = 159\n",
    "    return [pos[0][0].item(), pos[0][1].item()]\n",
    "\n",
    "def click(driver):\n",
    "    # 加载模型\n",
    "    model = torch.load(r\"D:\\vscode_workspace\\Python\\ZhongYi\\chaoxin\\CNN_Network\\CNN.pth\")\n",
    "    model.eval()\n",
    "    # 获取验证码的图片及其位置和大小\n",
    "    captcha_img = driver.find_element(By.CLASS_NAME, 'cx_imgBg')\n",
    "    captcha_x_pos = captcha_img.location.get('x')\n",
    "    captcha_y_pos = captcha_img.location.get('y')\n",
    "    captcha_width = captcha_img.size.get('width')\n",
    "    captcha_height = captcha_img.size.get('height')\n",
    "    img_path = 'D:/vscode_workspace/Python/ZhongYi/chaoxin/junk/VerifyCode'+str(random.randint(0, 1000))+'.jpg'\n",
    "    captcha_img.screenshot(img_path)\n",
    "    # 获取三个待点击的汉字\n",
    "    tmp_bs = BeautifulSoup(driver.page_source, 'html.parser')\n",
    "    target_text = tmp_bs.find(\"span\",{\"class\":{\"cx_tip_text cx_fallback_tip\"}}).b.text.replace(' ','').replace('\\\"','')\n",
    "    # 获取汉字位置，然后点击\n",
    "    for character in target_text:\n",
    "        pos_list = get_pos(model, character, img_path)\n",
    "        print(\"汉字\", character, \"的坐标为\", pos_list)\n",
    "        character_x_pos = pos_list[0]\n",
    "        character_y_pos = pos_list[1]\n",
    "        move_x = captcha_x_pos+captcha_width*(character_x_pos/320)\n",
    "        move_y = captcha_y_pos+captcha_height*(character_y_pos/160)\n",
    "        ActionChains(driver).move_by_offset(move_x, move_y).click().perform()\n",
    "        ActionChains(driver).move_by_offset(-move_x, -move_y).perform()"
   ]
  },
  {
   "cell_type": "code",
   "execution_count": 2,
   "metadata": {},
   "outputs": [
    {
     "name": "stderr",
     "output_type": "stream",
     "text": [
      "C:\\Users\\15692\\AppData\\Local\\Temp\\ipykernel_10672\\1916015847.py:12: DeprecationWarning: executable_path has been deprecated, please pass in a Service object\n",
      "  driver = webdriver.Chrome(r\"D:\\vscode_workspace\\Python\\ZhongYi\\chromedriver_win64\\chromedriver.exe\", options=myoption)  # 创建浏览器实例\n",
      "d:\\Python311\\Lib\\site-packages\\selenium\\webdriver\\remote\\webelement.py:352: UserWarning: name used for saved screenshot does not match file type. It should end with a `.png` extension\n",
      "  warnings.warn(\n"
     ]
    },
    {
     "name": "stdout",
     "output_type": "stream",
     "text": [
      "汉字 等 的坐标为 [181.7921142578125, 132.34080505371094]\n",
      "汉字 包 的坐标为 [196.50592041015625, 140.1470947265625]\n",
      "汉字 业 的坐标为 [189.52716064453125, 131.15061950683594]\n",
      "程序运行结束，请输入任意字符以返回\n"
     ]
    }
   ],
   "source": [
    "from selenium import webdriver\n",
    "from selenium.webdriver.support.ui import WebDriverWait\n",
    "from selenium.webdriver.support import expected_conditions as EC\n",
    "\n",
    "if 1:\n",
    "    chaoxin_href = r\"http://fx.sjtulib.superlib.net/verifyPage?key=fea955955053474970e8ad158286b0b8&index=1&enc=f252c4d2257f2d07afb38f9a668b7b11&backUrl=http%3A%2F%2Ffx.sjtulib.superlib.net%2Fs%3Fsw%3D%25E4%25B8%25AD%25E5%258C%25BB%25E8%258D%25AF%26size%3D15%26isort%3D%26x%3D788_1071%26pages%3D70%26version%3Dv2\"\n",
    "    myoption = webdriver.ChromeOptions()\n",
    "    myoption.add_experimental_option('detach', True)\n",
    "    myoption.add_argument('-ignore-certificate-errors')\n",
    "    myoption.add_argument('-ignore -ssl-errors')\n",
    "    myoption.add_experimental_option(\"excludeSwitches\", ['enable-automation', 'enable-logging'])\n",
    "    driver = webdriver.Chrome(r\"D:\\vscode_workspace\\Python\\ZhongYi\\chromedriver_win64\\chromedriver.exe\", options=myoption)  # 创建浏览器实例\n",
    "    driver.get(chaoxin_href)\n",
    "    driver.maximize_window()\n",
    "    # 创建 WebDriverWait 对象，最大等待时间为 60 秒\n",
    "    wait = WebDriverWait(driver, 60)\n",
    "    # 等待页面加载\n",
    "    wait.until(EC.presence_of_element_located((By.CLASS_NAME, \"cx_imgBg\")))\n",
    "    # 点击验证码汉字\n",
    "    click(driver)\n",
    "    # 等待程序结束\n",
    "    print(\"程序运行结束，请输入任意字符以返回\")\n",
    "    input()\n"
   ]
  }
 ],
 "metadata": {
  "kernelspec": {
   "display_name": "Python 3",
   "language": "python",
   "name": "python3"
  },
  "language_info": {
   "codemirror_mode": {
    "name": "ipython",
    "version": 3
   },
   "file_extension": ".py",
   "mimetype": "text/x-python",
   "name": "python",
   "nbconvert_exporter": "python",
   "pygments_lexer": "ipython3",
   "version": "3.11.1"
  }
 },
 "nbformat": 4,
 "nbformat_minor": 2
}
