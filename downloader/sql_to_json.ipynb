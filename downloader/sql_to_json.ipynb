{
 "cells": [
  {
   "cell_type": "code",
   "execution_count": null,
   "metadata": {},
   "outputs": [],
   "source": [
    "'''\n",
    "    本文件将MySQL中的数据转换为json的形式，加上'year'的label，并且去重\n",
    "'''"
   ]
  },
  {
   "cell_type": "code",
   "execution_count": 1,
   "metadata": {},
   "outputs": [
    {
     "name": "stdout",
     "output_type": "stream",
     "text": [
      "连接成功！\n",
      "Database version : 8.0.34 \n"
     ]
    }
   ],
   "source": [
    "import pymysql\n",
    "\n",
    "# 连接数据库\n",
    "try:\n",
    "    db = pymysql.connect(host='10.181.62.21', user='root', passwd='lzd18020226', port=3306, db='tysql')\n",
    "    print('连接成功！')\n",
    "except:\n",
    "    print('something wrong!')\n",
    "\n",
    "# 使用 cursor() 方法创建一个游标对象 cursor \n",
    "cursor = db.cursor()\n",
    "# 使用 execute()  方法执行 SQL 查询\n",
    "cursor.execute(\"SELECT VERSION()\")\n",
    "# 使用 fetchone() 方法获取单条数据.\n",
    "data = cursor.fetchone()\n",
    "print(\"Database version : %s \" % data)"
   ]
  },
  {
   "cell_type": "code",
   "execution_count": 2,
   "metadata": {},
   "outputs": [
    {
     "name": "stdout",
     "output_type": "stream",
     "text": [
      "45106\n",
      "10\n",
      "心理综合护理干预对类风湿关节炎患者焦虑及抑郁情绪影响系统综述\n"
     ]
    }
   ],
   "source": [
    "# 获取 papers\n",
    "sql = \"SELECT * FROM papers \"#\\\n",
    "    #    WHERE INCOME > %s\" % (1000)\n",
    "try:\n",
    "    # 执行SQL语句\n",
    "    cursor.execute(sql)\n",
    "    # 获取所有记录列表\n",
    "    results = cursor.fetchall()\n",
    "    print(len(results))\n",
    "    print(len(results[0]))\n",
    "    for item in results[0]:\n",
    "        print(item)\n",
    "except:\n",
    "    print(\"Error: unable to fetch data\")"
   ]
  },
  {
   "cell_type": "code",
   "execution_count": 30,
   "metadata": {},
   "outputs": [
    {
     "name": "stdout",
     "output_type": "stream",
     "text": [
      "44146\n"
     ]
    }
   ],
   "source": [
    "# 将下载下来的元组转换为字典\n",
    "import re\n",
    "papers = []\n",
    "title_dic = {}\n",
    "for paper_turple in results:\n",
    "    paper_dic = {}\n",
    "    paper_dic['title'] = paper_turple[0]\n",
    "    paper_dic['authors'] = paper_turple[1]\n",
    "    paper_dic['affiliations'] = paper_turple[2]\n",
    "    paper_dic['journal'] = paper_turple[3]\n",
    "    paper_dic['keywords'] = paper_turple[4]\n",
    "    paper_dic['source'] = paper_turple[5]\n",
    "    paper_dic['abstract'] = paper_turple[6]\n",
    "    paper_dic['link'] = paper_turple[7]\n",
    "    paper_dic['citation'] = paper_turple[8]\n",
    "    paper_dic['ISSN'] = paper_turple[9]\n",
    "    try:\n",
    "        paper_dic['year'] = re.search(\"20\\d\\d|19\\d\\d\", paper_turple[5]).group()\n",
    "    except:\n",
    "        continue\n",
    "    if paper_dic['title'] not in title_dic:\n",
    "        title_dic[paper_dic['title']] = 1\n",
    "        papers.append(paper_dic)\n",
    "    else:\n",
    "        continue\n",
    "print(len(papers))"
   ]
  },
  {
   "cell_type": "code",
   "execution_count": 37,
   "metadata": {},
   "outputs": [],
   "source": [
    "import json\n",
    "def save_to(filename, entry):\n",
    "    try:\n",
    "        # utf-8将一个汉字编码为3个字节,gbk将一个汉字编码为2个字节,\n",
    "        with open(filename, 'w',encoding='utf-8') as new_f:  # 重新写入\n",
    "            json.dump(entry, new_f,ensure_ascii=False,indent=4) # 最后一个参数会保证dump之后的结果所有的字符都能被ascii表示\n",
    "            # if entry.get('篇名',[]): # 输出文献的标题\n",
    "            #     print(f\"{entry['篇名']}saved\")\n",
    "    except json.decoder.JSONDecodeError:\n",
    "        print('Make sure the json file is in valid format,[{},{}...]')"
   ]
  },
  {
   "cell_type": "code",
   "execution_count": 38,
   "metadata": {},
   "outputs": [],
   "source": [
    "json_dict = r'/Users/lzd/Desktop/workspace/ZhongYiPapers/papers_lzd.json'\n",
    "# for paper in papers:\n",
    "save_to(json_dict, papers)"
   ]
  }
 ],
 "metadata": {
  "kernelspec": {
   "display_name": "Python 3",
   "language": "python",
   "name": "python3"
  },
  "language_info": {
   "codemirror_mode": {
    "name": "ipython",
    "version": 3
   },
   "file_extension": ".py",
   "mimetype": "text/x-python",
   "name": "python",
   "nbconvert_exporter": "python",
   "pygments_lexer": "ipython3",
   "version": "3.8.2"
  }
 },
 "nbformat": 4,
 "nbformat_minor": 2
}
